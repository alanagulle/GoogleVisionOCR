{
 "cells": [
  {
   "cell_type": "code",
   "execution_count": 2,
   "metadata": {},
   "outputs": [
    {
     "name": "stdout",
     "output_type": "stream",
     "text": [
      "C:\\Users\\Mr A\\Desktop\\MLproject\n",
      "Land vehicle\n",
      "Vehicle\n",
      "Car\n",
      "Volvo cars\n",
      "Volvo v40\n",
      "Automotive design\n",
      "Motor vehicle\n",
      "Hatchback\n",
      "Mid-size car\n",
      "Mode of transport\n"
     ]
    }
   ],
   "source": [
    "import io\n",
    "import os \n",
    "from google.cloud import vision\n",
    "from google.cloud.vision import types\n",
    "\n",
    "# to learn current working directory \n",
    "print(os.getcwd())\n",
    "\n",
    "path=\"C:\\\\Users\\\\Mr A\\\\Desktop\\\\MLproject\\\\apikey.json\"\n",
    "#setting environmental variable of google application credentials for dynamic autantication.\n",
    "os.environ[\"GOOGLE_APPLICATION_CREDENTIALS\"]=path\n",
    "\n",
    "client =vision.ImageAnnotatorClient()\n",
    "\n",
    "#os.path.join(os.path.dirname(__file__))\n",
    "#file_name=os.path.join(os.path.dirname(__file__),'test_image.png')\n",
    "\n",
    "\n",
    "#with io.open('file_name,'rb') as image_file:\n",
    "   # content=image_file.read()\n",
    "    \n",
    "    \n",
    "with io.open('test_image.png','rb') as image_file:\n",
    "    content=image_file.read()\n",
    "    \n",
    "image=types.Image(content=content)\n",
    "#print(image)\n",
    "response= client.label_detection(image=image)\n",
    "\n",
    "\n",
    "labels=response.label_annotations\n",
    "for label in labels:\n",
    "    print(label.description)\n"
   ]
  },
  {
   "cell_type": "code",
   "execution_count": null,
   "metadata": {},
   "outputs": [],
   "source": []
  }
 ],
 "metadata": {
  "kernelspec": {
   "display_name": "Python 3",
   "language": "python",
   "name": "python3"
  },
  "language_info": {
   "codemirror_mode": {
    "name": "ipython",
    "version": 3
   },
   "file_extension": ".py",
   "mimetype": "text/x-python",
   "name": "python",
   "nbconvert_exporter": "python",
   "pygments_lexer": "ipython3",
   "version": "3.6.5"
  }
 },
 "nbformat": 4,
 "nbformat_minor": 2
}
